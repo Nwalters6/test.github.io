{
 "cells": [
  {
   "cell_type": "code",
   "execution_count": 1,
   "metadata": {},
   "outputs": [],
   "source": [
    "#import the necessary libraries\n",
    "import os\n",
    "import pandas as pd\n",
    "import numpy as np"
   ]
  },
  {
   "cell_type": "code",
   "execution_count": 2,
   "metadata": {},
   "outputs": [],
   "source": [
    "#derive the input file paths\n",
    "filepath = os.path.join(\"\",\"purchase_data.csv\")"
   ]
  },
  {
   "cell_type": "code",
   "execution_count": 3,
   "metadata": {},
   "outputs": [],
   "source": [
    "#construct the requried dataframes\n",
    "df = pd.read_csv(filepath)"
   ]
  },
  {
   "cell_type": "code",
   "execution_count": 4,
   "metadata": {},
   "outputs": [
    {
     "data": {
      "text/html": [
       "<div>\n",
       "<style scoped>\n",
       "    .dataframe tbody tr th:only-of-type {\n",
       "        vertical-align: middle;\n",
       "    }\n",
       "\n",
       "    .dataframe tbody tr th {\n",
       "        vertical-align: top;\n",
       "    }\n",
       "\n",
       "    .dataframe thead th {\n",
       "        text-align: right;\n",
       "    }\n",
       "</style>\n",
       "<table border=\"1\" class=\"dataframe\">\n",
       "  <thead>\n",
       "    <tr style=\"text-align: right;\">\n",
       "      <th></th>\n",
       "      <th>Purchase ID</th>\n",
       "      <th>SN</th>\n",
       "      <th>Age</th>\n",
       "      <th>Gender</th>\n",
       "      <th>Item ID</th>\n",
       "      <th>Item Name</th>\n",
       "      <th>Price</th>\n",
       "    </tr>\n",
       "  </thead>\n",
       "  <tbody>\n",
       "    <tr>\n",
       "      <th>0</th>\n",
       "      <td>0</td>\n",
       "      <td>Lisim78</td>\n",
       "      <td>20</td>\n",
       "      <td>Male</td>\n",
       "      <td>108</td>\n",
       "      <td>Extraction, Quickblade Of Trembling Hands</td>\n",
       "      <td>3.53</td>\n",
       "    </tr>\n",
       "    <tr>\n",
       "      <th>1</th>\n",
       "      <td>1</td>\n",
       "      <td>Lisovynya38</td>\n",
       "      <td>40</td>\n",
       "      <td>Male</td>\n",
       "      <td>143</td>\n",
       "      <td>Frenzied Scimitar</td>\n",
       "      <td>1.56</td>\n",
       "    </tr>\n",
       "    <tr>\n",
       "      <th>2</th>\n",
       "      <td>2</td>\n",
       "      <td>Ithergue48</td>\n",
       "      <td>24</td>\n",
       "      <td>Male</td>\n",
       "      <td>92</td>\n",
       "      <td>Final Critic</td>\n",
       "      <td>4.88</td>\n",
       "    </tr>\n",
       "    <tr>\n",
       "      <th>3</th>\n",
       "      <td>3</td>\n",
       "      <td>Chamassasya86</td>\n",
       "      <td>24</td>\n",
       "      <td>Male</td>\n",
       "      <td>100</td>\n",
       "      <td>Blindscythe</td>\n",
       "      <td>3.27</td>\n",
       "    </tr>\n",
       "    <tr>\n",
       "      <th>4</th>\n",
       "      <td>4</td>\n",
       "      <td>Iskosia90</td>\n",
       "      <td>23</td>\n",
       "      <td>Male</td>\n",
       "      <td>131</td>\n",
       "      <td>Fury</td>\n",
       "      <td>1.44</td>\n",
       "    </tr>\n",
       "  </tbody>\n",
       "</table>\n",
       "</div>"
      ],
      "text/plain": [
       "   Purchase ID             SN  Age Gender  Item ID  \\\n",
       "0            0        Lisim78   20   Male      108   \n",
       "1            1    Lisovynya38   40   Male      143   \n",
       "2            2     Ithergue48   24   Male       92   \n",
       "3            3  Chamassasya86   24   Male      100   \n",
       "4            4      Iskosia90   23   Male      131   \n",
       "\n",
       "                                   Item Name  Price  \n",
       "0  Extraction, Quickblade Of Trembling Hands   3.53  \n",
       "1                          Frenzied Scimitar   1.56  \n",
       "2                               Final Critic   4.88  \n",
       "3                                Blindscythe   3.27  \n",
       "4                                       Fury   1.44  "
      ]
     },
     "metadata": {},
     "output_type": "display_data"
    }
   ],
   "source": [
    "#display the head of both the dataframe\n",
    "display(df.head(5))"
   ]
  },
  {
   "cell_type": "code",
   "execution_count": 5,
   "metadata": {},
   "outputs": [
    {
     "data": {
      "text/plain": [
       "(780, 7)"
      ]
     },
     "metadata": {},
     "output_type": "display_data"
    }
   ],
   "source": [
    "#shape of the dataframes\n",
    "display(df.shape)"
   ]
  },
  {
   "cell_type": "code",
   "execution_count": 6,
   "metadata": {},
   "outputs": [
    {
     "name": "stdout",
     "output_type": "stream",
     "text": [
      "<class 'pandas.core.frame.DataFrame'>\n",
      "RangeIndex: 780 entries, 0 to 779\n",
      "Data columns (total 7 columns):\n",
      "Purchase ID    780 non-null int64\n",
      "SN             780 non-null object\n",
      "Age            780 non-null int64\n",
      "Gender         780 non-null object\n",
      "Item ID        780 non-null int64\n",
      "Item Name      780 non-null object\n",
      "Price          780 non-null float64\n",
      "dtypes: float64(1), int64(3), object(3)\n",
      "memory usage: 42.7+ KB\n"
     ]
    }
   ],
   "source": [
    "#datatypes of the dataframe\n",
    "df.info()"
   ]
  },
  {
   "cell_type": "code",
   "execution_count": 7,
   "metadata": {},
   "outputs": [
    {
     "data": {
      "text/plain": [
       "576"
      ]
     },
     "execution_count": 7,
     "metadata": {},
     "output_type": "execute_result"
    }
   ],
   "source": [
    "# Total Number of Players\n",
    "df['SN'].nunique()"
   ]
  },
  {
   "cell_type": "code",
   "execution_count": 8,
   "metadata": {},
   "outputs": [
    {
     "data": {
      "text/html": [
       "<style  type=\"text/css\" >\n",
       "    #T_49309efe_69f4_11e8_b557_28cfe917b357row0_col0 {\n",
       "            background-color:  ash;\n",
       "            color:  blue;\n",
       "            border-color:  white;\n",
       "        }</style>  \n",
       "<table id=\"T_49309efe_69f4_11e8_b557_28cfe917b357\" > \n",
       "<thead>    <tr> \n",
       "        <th class=\"blank level0\" ></th> \n",
       "        <th class=\"col_heading level0 col0\" >Total Number of Players</th> \n",
       "    </tr></thead> \n",
       "<tbody>    <tr> \n",
       "        <th id=\"T_49309efe_69f4_11e8_b557_28cfe917b357level0_row0\" class=\"row_heading level0 row0\" >0</th> \n",
       "        <td id=\"T_49309efe_69f4_11e8_b557_28cfe917b357row0_col0\" class=\"data row0 col0\" >576</td> \n",
       "    </tr></tbody> \n",
       "</table> "
      ],
      "text/plain": [
       "<pandas.io.formats.style.Styler at 0x1153953c8>"
      ]
     },
     "execution_count": 8,
     "metadata": {},
     "output_type": "execute_result"
    }
   ],
   "source": [
    "pd.DataFrame({\"Total Number of Players\":df['SN'].nunique()},index=[0]).style.set_properties(**{'background-color': 'ash',\n",
    "                           'color': 'blue',\n",
    "                           'border-color': 'white'})"
   ]
  },
  {
   "cell_type": "code",
   "execution_count": 9,
   "metadata": {},
   "outputs": [
    {
     "data": {
      "text/plain": [
       "183"
      ]
     },
     "execution_count": 9,
     "metadata": {},
     "output_type": "execute_result"
    }
   ],
   "source": [
    "# Number of Unique Items\n",
    "df['Item ID'].nunique()"
   ]
  },
  {
   "cell_type": "code",
   "execution_count": 10,
   "metadata": {},
   "outputs": [
    {
     "data": {
      "text/plain": [
       "3.050987179487176"
      ]
     },
     "execution_count": 10,
     "metadata": {},
     "output_type": "execute_result"
    }
   ],
   "source": [
    "# Average Purchase Price\n",
    "df['Price'].mean()"
   ]
  },
  {
   "cell_type": "code",
   "execution_count": 11,
   "metadata": {},
   "outputs": [
    {
     "data": {
      "text/plain": [
       "780"
      ]
     },
     "execution_count": 11,
     "metadata": {},
     "output_type": "execute_result"
    }
   ],
   "source": [
    "# Total Number of Purchases\n",
    "len(df)"
   ]
  },
  {
   "cell_type": "code",
   "execution_count": 12,
   "metadata": {},
   "outputs": [
    {
     "data": {
      "text/plain": [
       "2379.77"
      ]
     },
     "execution_count": 12,
     "metadata": {},
     "output_type": "execute_result"
    }
   ],
   "source": [
    "# Total Revenue\n",
    "df['Price'].sum()"
   ]
  },
  {
   "cell_type": "code",
   "execution_count": 13,
   "metadata": {},
   "outputs": [
    {
     "data": {
      "text/html": [
       "<style  type=\"text/css\" >\n",
       "    #T_4b47ea3a_69f4_11e8_9f73_28cfe917b357row0_col0 {\n",
       "            background-color:  ash;\n",
       "            color:  blue;\n",
       "            border-color:  white;\n",
       "        }    #T_4b47ea3a_69f4_11e8_9f73_28cfe917b357row0_col1 {\n",
       "            background-color:  ash;\n",
       "            color:  blue;\n",
       "            border-color:  white;\n",
       "        }    #T_4b47ea3a_69f4_11e8_9f73_28cfe917b357row0_col2 {\n",
       "            background-color:  ash;\n",
       "            color:  blue;\n",
       "            border-color:  white;\n",
       "        }    #T_4b47ea3a_69f4_11e8_9f73_28cfe917b357row0_col3 {\n",
       "            background-color:  ash;\n",
       "            color:  blue;\n",
       "            border-color:  white;\n",
       "        }</style>  \n",
       "<table id=\"T_4b47ea3a_69f4_11e8_9f73_28cfe917b357\" > \n",
       "<thead>    <tr> \n",
       "        <th class=\"blank level0\" ></th> \n",
       "        <th class=\"col_heading level0 col0\" >Average Purchase Price</th> \n",
       "        <th class=\"col_heading level0 col1\" >Number of Unique Items</th> \n",
       "        <th class=\"col_heading level0 col2\" >Total Number of Purchases</th> \n",
       "        <th class=\"col_heading level0 col3\" >Total Revenue</th> \n",
       "    </tr></thead> \n",
       "<tbody>    <tr> \n",
       "        <th id=\"T_4b47ea3a_69f4_11e8_9f73_28cfe917b357level0_row0\" class=\"row_heading level0 row0\" >0</th> \n",
       "        <td id=\"T_4b47ea3a_69f4_11e8_9f73_28cfe917b357row0_col0\" class=\"data row0 col0\" >3.05099</td> \n",
       "        <td id=\"T_4b47ea3a_69f4_11e8_9f73_28cfe917b357row0_col1\" class=\"data row0 col1\" >183</td> \n",
       "        <td id=\"T_4b47ea3a_69f4_11e8_9f73_28cfe917b357row0_col2\" class=\"data row0 col2\" >780</td> \n",
       "        <td id=\"T_4b47ea3a_69f4_11e8_9f73_28cfe917b357row0_col3\" class=\"data row0 col3\" >2379.77</td> \n",
       "    </tr></tbody> \n",
       "</table> "
      ],
      "text/plain": [
       "<pandas.io.formats.style.Styler at 0x1153c4be0>"
      ]
     },
     "execution_count": 13,
     "metadata": {},
     "output_type": "execute_result"
    }
   ],
   "source": [
    "pd.DataFrame({\"Number of Unique Items\":df['Item ID'].nunique(),\n",
    "  \"Average Purchase Price\":df['Price'].mean(),\n",
    " \"Total Number of Purchases\":len(df),\n",
    "\"Total Revenue\":df['Price'].sum()},index=[0]).style.set_properties(**{'background-color': 'ash',\n",
    "                           'color': 'blue',\n",
    "                           'border-color': 'white'})"
   ]
  },
  {
   "cell_type": "code",
   "execution_count": 14,
   "metadata": {},
   "outputs": [
    {
     "data": {
      "text/html": [
       "<div>\n",
       "<style scoped>\n",
       "    .dataframe tbody tr th:only-of-type {\n",
       "        vertical-align: middle;\n",
       "    }\n",
       "\n",
       "    .dataframe tbody tr th {\n",
       "        vertical-align: top;\n",
       "    }\n",
       "\n",
       "    .dataframe thead th {\n",
       "        text-align: right;\n",
       "    }\n",
       "</style>\n",
       "<table border=\"1\" class=\"dataframe\">\n",
       "  <thead>\n",
       "    <tr style=\"text-align: right;\">\n",
       "      <th></th>\n",
       "      <th>Purchase ID</th>\n",
       "      <th>SN</th>\n",
       "      <th>Age</th>\n",
       "      <th>Gender</th>\n",
       "      <th>Item ID</th>\n",
       "      <th>Item Name</th>\n",
       "      <th>Price</th>\n",
       "    </tr>\n",
       "  </thead>\n",
       "  <tbody>\n",
       "    <tr>\n",
       "      <th>218</th>\n",
       "      <td>218</td>\n",
       "      <td>Aelastirin39</td>\n",
       "      <td>23</td>\n",
       "      <td>Male</td>\n",
       "      <td>76</td>\n",
       "      <td>Haunted Bronzed Bludgeon</td>\n",
       "      <td>3.15</td>\n",
       "    </tr>\n",
       "    <tr>\n",
       "      <th>766</th>\n",
       "      <td>766</td>\n",
       "      <td>Aelastirin39</td>\n",
       "      <td>23</td>\n",
       "      <td>Male</td>\n",
       "      <td>58</td>\n",
       "      <td>Freak's Bite, Favor of Holy Might</td>\n",
       "      <td>4.14</td>\n",
       "    </tr>\n",
       "    <tr>\n",
       "      <th>584</th>\n",
       "      <td>584</td>\n",
       "      <td>Aelin32</td>\n",
       "      <td>20</td>\n",
       "      <td>Male</td>\n",
       "      <td>115</td>\n",
       "      <td>Spectral Diamond Doomblade</td>\n",
       "      <td>2.04</td>\n",
       "    </tr>\n",
       "    <tr>\n",
       "      <th>87</th>\n",
       "      <td>87</td>\n",
       "      <td>Aelin32</td>\n",
       "      <td>20</td>\n",
       "      <td>Male</td>\n",
       "      <td>151</td>\n",
       "      <td>Severance</td>\n",
       "      <td>3.40</td>\n",
       "    </tr>\n",
       "    <tr>\n",
       "      <th>52</th>\n",
       "      <td>52</td>\n",
       "      <td>Aelin32</td>\n",
       "      <td>20</td>\n",
       "      <td>Male</td>\n",
       "      <td>60</td>\n",
       "      <td>Wolf</td>\n",
       "      <td>3.54</td>\n",
       "    </tr>\n",
       "    <tr>\n",
       "      <th>43</th>\n",
       "      <td>43</td>\n",
       "      <td>Aelly27</td>\n",
       "      <td>24</td>\n",
       "      <td>Male</td>\n",
       "      <td>116</td>\n",
       "      <td>Renewed Skeletal Katana</td>\n",
       "      <td>4.18</td>\n",
       "    </tr>\n",
       "    <tr>\n",
       "      <th>428</th>\n",
       "      <td>428</td>\n",
       "      <td>Aelly27</td>\n",
       "      <td>24</td>\n",
       "      <td>Male</td>\n",
       "      <td>14</td>\n",
       "      <td>Possessed Core</td>\n",
       "      <td>2.61</td>\n",
       "    </tr>\n",
       "    <tr>\n",
       "      <th>203</th>\n",
       "      <td>203</td>\n",
       "      <td>Aelollo59</td>\n",
       "      <td>33</td>\n",
       "      <td>Male</td>\n",
       "      <td>3</td>\n",
       "      <td>Phantomlight</td>\n",
       "      <td>2.49</td>\n",
       "    </tr>\n",
       "    <tr>\n",
       "      <th>431</th>\n",
       "      <td>431</td>\n",
       "      <td>Aelollo59</td>\n",
       "      <td>33</td>\n",
       "      <td>Male</td>\n",
       "      <td>172</td>\n",
       "      <td>Blade of the Grave</td>\n",
       "      <td>3.14</td>\n",
       "    </tr>\n",
       "    <tr>\n",
       "      <th>578</th>\n",
       "      <td>578</td>\n",
       "      <td>Aerithllora36</td>\n",
       "      <td>29</td>\n",
       "      <td>Female</td>\n",
       "      <td>153</td>\n",
       "      <td>Mercenary Sabre</td>\n",
       "      <td>3.74</td>\n",
       "    </tr>\n",
       "  </tbody>\n",
       "</table>\n",
       "</div>"
      ],
      "text/plain": [
       "     Purchase ID             SN  Age  Gender  Item ID  \\\n",
       "218          218   Aelastirin39   23    Male       76   \n",
       "766          766   Aelastirin39   23    Male       58   \n",
       "584          584        Aelin32   20    Male      115   \n",
       "87            87        Aelin32   20    Male      151   \n",
       "52            52        Aelin32   20    Male       60   \n",
       "43            43        Aelly27   24    Male      116   \n",
       "428          428        Aelly27   24    Male       14   \n",
       "203          203      Aelollo59   33    Male        3   \n",
       "431          431      Aelollo59   33    Male      172   \n",
       "578          578  Aerithllora36   29  Female      153   \n",
       "\n",
       "                             Item Name  Price  \n",
       "218           Haunted Bronzed Bludgeon   3.15  \n",
       "766  Freak's Bite, Favor of Holy Might   4.14  \n",
       "584         Spectral Diamond Doomblade   2.04  \n",
       "87                           Severance   3.40  \n",
       "52                                Wolf   3.54  \n",
       "43             Renewed Skeletal Katana   4.18  \n",
       "428                     Possessed Core   2.61  \n",
       "203                       Phantomlight   2.49  \n",
       "431                 Blade of the Grave   3.14  \n",
       "578                    Mercenary Sabre   3.74  "
      ]
     },
     "metadata": {},
     "output_type": "display_data"
    },
    {
     "data": {
      "text/plain": [
       "366"
      ]
     },
     "metadata": {},
     "output_type": "display_data"
    }
   ],
   "source": [
    "# get all the duplicate rows\n",
    "display(df.loc[df.duplicated(\"SN\",keep=False),:].sort_values(\"SN\").head(10))\n",
    "display(len(df.loc[df.duplicated(\"SN\",keep=False),:]))"
   ]
  },
  {
   "cell_type": "code",
   "execution_count": 15,
   "metadata": {},
   "outputs": [
    {
     "data": {
      "text/plain": [
       "576"
      ]
     },
     "execution_count": 15,
     "metadata": {},
     "output_type": "execute_result"
    }
   ],
   "source": [
    "# drop the duplicate SN rows to get gender propotions# drop th \n",
    "df_unique = df.drop_duplicates(\"SN\", keep='first')\n",
    "len(df_unique)"
   ]
  },
  {
   "cell_type": "code",
   "execution_count": 16,
   "metadata": {},
   "outputs": [
    {
     "data": {
      "text/html": [
       "<style  type=\"text/css\" >\n",
       "    #T_4cb71d46_69f4_11e8_be01_28cfe917b357row0_col0 {\n",
       "            width:  10em;\n",
       "             height:  80%;\n",
       "            background:  linear-gradient(90deg,#05668D 100.0%, transparent 0%);\n",
       "        }    #T_4cb71d46_69f4_11e8_be01_28cfe917b357row0_col1 {\n",
       "            width:  10em;\n",
       "             height:  80%;\n",
       "            background:  linear-gradient(90deg,#05668D 100.0%, transparent 0%);\n",
       "        }    #T_4cb71d46_69f4_11e8_be01_28cfe917b357row1_col0 {\n",
       "            width:  10em;\n",
       "             height:  80%;\n",
       "            background:  linear-gradient(90deg,#05668D 14.8%, transparent 0%);\n",
       "        }    #T_4cb71d46_69f4_11e8_be01_28cfe917b357row1_col1 {\n",
       "            width:  10em;\n",
       "             height:  80%;\n",
       "            background:  linear-gradient(90deg,#05668D 14.8%, transparent 0%);\n",
       "        }    #T_4cb71d46_69f4_11e8_be01_28cfe917b357row2_col0 {\n",
       "            width:  10em;\n",
       "             height:  80%;\n",
       "        }    #T_4cb71d46_69f4_11e8_be01_28cfe917b357row2_col1 {\n",
       "            width:  10em;\n",
       "             height:  80%;\n",
       "        }</style>  \n",
       "<table id=\"T_4cb71d46_69f4_11e8_be01_28cfe917b357\" > \n",
       "<thead>    <tr> \n",
       "        <th class=\"blank level0\" ></th> \n",
       "        <th class=\"col_heading level0 col0\" >Percentage of players</th> \n",
       "        <th class=\"col_heading level0 col1\" >Total Count</th> \n",
       "    </tr></thead> \n",
       "<tbody>    <tr> \n",
       "        <th id=\"T_4cb71d46_69f4_11e8_be01_28cfe917b357level0_row0\" class=\"row_heading level0 row0\" >Male</th> \n",
       "        <td id=\"T_4cb71d46_69f4_11e8_be01_28cfe917b357row0_col0\" class=\"data row0 col0\" >0.840278</td> \n",
       "        <td id=\"T_4cb71d46_69f4_11e8_be01_28cfe917b357row0_col1\" class=\"data row0 col1\" >484</td> \n",
       "    </tr>    <tr> \n",
       "        <th id=\"T_4cb71d46_69f4_11e8_be01_28cfe917b357level0_row1\" class=\"row_heading level0 row1\" >Female</th> \n",
       "        <td id=\"T_4cb71d46_69f4_11e8_be01_28cfe917b357row1_col0\" class=\"data row1 col0\" >0.140625</td> \n",
       "        <td id=\"T_4cb71d46_69f4_11e8_be01_28cfe917b357row1_col1\" class=\"data row1 col1\" >81</td> \n",
       "    </tr>    <tr> \n",
       "        <th id=\"T_4cb71d46_69f4_11e8_be01_28cfe917b357level0_row2\" class=\"row_heading level0 row2\" >Other / Non-Disclosed</th> \n",
       "        <td id=\"T_4cb71d46_69f4_11e8_be01_28cfe917b357row2_col0\" class=\"data row2 col0\" >0.0190972</td> \n",
       "        <td id=\"T_4cb71d46_69f4_11e8_be01_28cfe917b357row2_col1\" class=\"data row2 col1\" >11</td> \n",
       "    </tr></tbody> \n",
       "</table> "
      ],
      "text/plain": [
       "<pandas.io.formats.style.Styler at 0x115cc96a0>"
      ]
     },
     "execution_count": 16,
     "metadata": {},
     "output_type": "execute_result"
    }
   ],
   "source": [
    "pd.DataFrame({'Percentage of players' : df_unique['Gender'].value_counts(normalize=True),\n",
    "   'Total Count' : df_unique['Gender'].value_counts()}).style.bar(color='#05668D')"
   ]
  },
  {
   "cell_type": "code",
   "execution_count": 17,
   "metadata": {},
   "outputs": [
    {
     "data": {
      "text/html": [
       "<style  type=\"text/css\" >\n",
       "    #T_4d4d397a_69f4_11e8_a80f_28cfe917b357row0_col0 {\n",
       "            width:  10em;\n",
       "             height:  80%;\n",
       "            background:  linear-gradient(90deg,#05668D 56.4%, transparent 0%);\n",
       "        }    #T_4d4d397a_69f4_11e8_a80f_28cfe917b357row0_col1 {\n",
       "            width:  10em;\n",
       "             height:  80%;\n",
       "            background:  linear-gradient(90deg,#05668D 16.3%, transparent 0%);\n",
       "        }    #T_4d4d397a_69f4_11e8_a80f_28cfe917b357row0_col2 {\n",
       "            width:  10em;\n",
       "             height:  80%;\n",
       "            background:  linear-gradient(90deg,#05668D 15.4%, transparent 0%);\n",
       "        }    #T_4d4d397a_69f4_11e8_a80f_28cfe917b357row1_col0 {\n",
       "            width:  10em;\n",
       "             height:  80%;\n",
       "        }    #T_4d4d397a_69f4_11e8_a80f_28cfe917b357row1_col1 {\n",
       "            width:  10em;\n",
       "             height:  80%;\n",
       "            background:  linear-gradient(90deg,#05668D 100.0%, transparent 0%);\n",
       "        }    #T_4d4d397a_69f4_11e8_a80f_28cfe917b357row1_col2 {\n",
       "            width:  10em;\n",
       "             height:  80%;\n",
       "            background:  linear-gradient(90deg,#05668D 100.0%, transparent 0%);\n",
       "        }    #T_4d4d397a_69f4_11e8_a80f_28cfe917b357row2_col0 {\n",
       "            width:  10em;\n",
       "             height:  80%;\n",
       "            background:  linear-gradient(90deg,#05668D 100.0%, transparent 0%);\n",
       "        }    #T_4d4d397a_69f4_11e8_a80f_28cfe917b357row2_col1 {\n",
       "            width:  10em;\n",
       "             height:  80%;\n",
       "        }    #T_4d4d397a_69f4_11e8_a80f_28cfe917b357row2_col2 {\n",
       "            width:  10em;\n",
       "             height:  80%;\n",
       "        }</style>  \n",
       "<table id=\"T_4d4d397a_69f4_11e8_a80f_28cfe917b357\" > \n",
       "<thead>    <tr> \n",
       "        <th class=\"blank level0\" ></th> \n",
       "        <th class=\"col_heading level0 col0\" colspan=2>Price</th> \n",
       "        <th class=\"col_heading level0 col2\" >Item ID</th> \n",
       "    </tr>    <tr> \n",
       "        <th class=\"blank level1\" ></th> \n",
       "        <th class=\"col_heading level1 col0\" >mean</th> \n",
       "        <th class=\"col_heading level1 col1\" >sum</th> \n",
       "        <th class=\"col_heading level1 col2\" >count</th> \n",
       "    </tr>    <tr> \n",
       "        <th class=\"index_name level0\" >Gender</th> \n",
       "        <th class=\"blank\" ></th> \n",
       "        <th class=\"blank\" ></th> \n",
       "        <th class=\"blank\" ></th> \n",
       "    </tr></thead> \n",
       "<tbody>    <tr> \n",
       "        <th id=\"T_4d4d397a_69f4_11e8_a80f_28cfe917b357level0_row0\" class=\"row_heading level0 row0\" >Female</th> \n",
       "        <td id=\"T_4d4d397a_69f4_11e8_a80f_28cfe917b357row0_col0\" class=\"data row0 col0\" >3.20301</td> \n",
       "        <td id=\"T_4d4d397a_69f4_11e8_a80f_28cfe917b357row0_col1\" class=\"data row0 col1\" >361.94</td> \n",
       "        <td id=\"T_4d4d397a_69f4_11e8_a80f_28cfe917b357row0_col2\" class=\"data row0 col2\" >113</td> \n",
       "    </tr>    <tr> \n",
       "        <th id=\"T_4d4d397a_69f4_11e8_a80f_28cfe917b357level0_row1\" class=\"row_heading level0 row1\" >Male</th> \n",
       "        <td id=\"T_4d4d397a_69f4_11e8_a80f_28cfe917b357row1_col0\" class=\"data row1 col0\" >3.01785</td> \n",
       "        <td id=\"T_4d4d397a_69f4_11e8_a80f_28cfe917b357row1_col1\" class=\"data row1 col1\" >1967.64</td> \n",
       "        <td id=\"T_4d4d397a_69f4_11e8_a80f_28cfe917b357row1_col2\" class=\"data row1 col2\" >652</td> \n",
       "    </tr>    <tr> \n",
       "        <th id=\"T_4d4d397a_69f4_11e8_a80f_28cfe917b357level0_row2\" class=\"row_heading level0 row2\" >Other / Non-Disclosed</th> \n",
       "        <td id=\"T_4d4d397a_69f4_11e8_a80f_28cfe917b357row2_col0\" class=\"data row2 col0\" >3.346</td> \n",
       "        <td id=\"T_4d4d397a_69f4_11e8_a80f_28cfe917b357row2_col1\" class=\"data row2 col1\" >50.19</td> \n",
       "        <td id=\"T_4d4d397a_69f4_11e8_a80f_28cfe917b357row2_col2\" class=\"data row2 col2\" >15</td> \n",
       "    </tr></tbody> \n",
       "</table> "
      ],
      "text/plain": [
       "<pandas.io.formats.style.Styler at 0x115cc9748>"
      ]
     },
     "execution_count": 17,
     "metadata": {},
     "output_type": "execute_result"
    }
   ],
   "source": [
    "summary_gender_purchasing = pd.DataFrame(df.groupby('Gender').agg({'Price':[np.mean,np.sum],'Item ID':'count'}))\n",
    "summary_gender_purchasing.style.bar(color='#05668D')"
   ]
  },
  {
   "cell_type": "code",
   "execution_count": 18,
   "metadata": {},
   "outputs": [],
   "source": [
    "#test  =  pd.DataFrame({'days': [0,31,45,60]})\n",
    "#test['range'] = pd.cut(test.days, [0,30,60,90], right=False)\n",
    "#test\n"
   ]
  },
  {
   "cell_type": "code",
   "execution_count": 21,
   "metadata": {},
   "outputs": [
    {
     "data": {
      "text/plain": [
       "['<10', '10-14', '15-19', '20-24', '25-29', '30-34', '35-39', '40+']"
      ]
     },
     "execution_count": 21,
     "metadata": {},
     "output_type": "execute_result"
    }
   ],
   "source": [
    "age_bins = [0, 10, 15, 20, 25, 30, 35, 40, 100]\n",
    "age_labels = ['<10', '10-14', '15-19', '20-24','25-29','30-34','35-39','40+']\n",
    "df['Age_Group'] = pd.cut(df['Age'], age_bins ,labels = age_labels,right=False)\n",
    "\n",
    "#age_labels\n",
    "#age_bins\n",
    "#df['Age_Group']"
   ]
  },
  {
   "cell_type": "code",
   "execution_count": 27,
   "metadata": {},
   "outputs": [],
   "source": [
    "summary_age = pd.DataFrame(df.groupby('Age_Group').agg({'Price':[np.mean,np.sum],'Item ID':'count'}))"
   ]
  },
  {
   "cell_type": "code",
   "execution_count": 28,
   "metadata": {},
   "outputs": [
    {
     "data": {
      "text/html": [
       "<style  type=\"text/css\" >\n",
       "    #T_423d9868_69cc_11e8_8fbb_28cfe917b357row0_col0 {\n",
       "            width:  10em;\n",
       "             height:  80%;\n",
       "            background:  linear-gradient(90deg,#05668D 64.6%, transparent 0%);\n",
       "        }    #T_423d9868_69cc_11e8_8fbb_28cfe917b357row0_col1 {\n",
       "            width:  10em;\n",
       "             height:  80%;\n",
       "            background:  linear-gradient(90deg,#05668D 3.6%, transparent 0%);\n",
       "        }    #T_423d9868_69cc_11e8_8fbb_28cfe917b357row0_col2 {\n",
       "            width:  10em;\n",
       "             height:  80%;\n",
       "            background:  linear-gradient(90deg,#05668D 2.8%, transparent 0%);\n",
       "        }    #T_423d9868_69cc_11e8_8fbb_28cfe917b357row1_col0 {\n",
       "            width:  10em;\n",
       "             height:  80%;\n",
       "            background:  linear-gradient(90deg,#05668D 7.9%, transparent 0%);\n",
       "        }    #T_423d9868_69cc_11e8_8fbb_28cfe917b357row1_col1 {\n",
       "            width:  10em;\n",
       "             height:  80%;\n",
       "            background:  linear-gradient(90deg,#05668D 4.1%, transparent 0%);\n",
       "        }    #T_423d9868_69cc_11e8_8fbb_28cfe917b357row1_col2 {\n",
       "            width:  10em;\n",
       "             height:  80%;\n",
       "            background:  linear-gradient(90deg,#05668D 4.3%, transparent 0%);\n",
       "        }    #T_423d9868_69cc_11e8_8fbb_28cfe917b357row2_col0 {\n",
       "            width:  10em;\n",
       "             height:  80%;\n",
       "            background:  linear-gradient(90deg,#05668D 19.3%, transparent 0%);\n",
       "        }    #T_423d9868_69cc_11e8_8fbb_28cfe917b357row2_col1 {\n",
       "            width:  10em;\n",
       "             height:  80%;\n",
       "            background:  linear-gradient(90deg,#05668D 34.8%, transparent 0%);\n",
       "        }    #T_423d9868_69cc_11e8_8fbb_28cfe917b357row2_col2 {\n",
       "            width:  10em;\n",
       "             height:  80%;\n",
       "            background:  linear-gradient(90deg,#05668D 34.9%, transparent 0%);\n",
       "        }    #T_423d9868_69cc_11e8_8fbb_28cfe917b357row3_col0 {\n",
       "            width:  10em;\n",
       "             height:  80%;\n",
       "            background:  linear-gradient(90deg,#05668D 21.6%, transparent 0%);\n",
       "        }    #T_423d9868_69cc_11e8_8fbb_28cfe917b357row3_col1 {\n",
       "            width:  10em;\n",
       "             height:  80%;\n",
       "            background:  linear-gradient(90deg,#05668D 100.0%, transparent 0%);\n",
       "        }    #T_423d9868_69cc_11e8_8fbb_28cfe917b357row3_col2 {\n",
       "            width:  10em;\n",
       "             height:  80%;\n",
       "            background:  linear-gradient(90deg,#05668D 100.0%, transparent 0%);\n",
       "        }    #T_423d9868_69cc_11e8_8fbb_28cfe917b357row4_col0 {\n",
       "            width:  10em;\n",
       "             height:  80%;\n",
       "        }    #T_423d9868_69cc_11e8_8fbb_28cfe917b357row4_col1 {\n",
       "            width:  10em;\n",
       "             height:  80%;\n",
       "            background:  linear-gradient(90deg,#05668D 23.7%, transparent 0%);\n",
       "        }    #T_423d9868_69cc_11e8_8fbb_28cfe917b357row4_col2 {\n",
       "            width:  10em;\n",
       "             height:  80%;\n",
       "            background:  linear-gradient(90deg,#05668D 25.0%, transparent 0%);\n",
       "        }    #T_423d9868_69cc_11e8_8fbb_28cfe917b357row5_col0 {\n",
       "            width:  10em;\n",
       "             height:  80%;\n",
       "            background:  linear-gradient(90deg,#05668D 4.4%, transparent 0%);\n",
       "        }    #T_423d9868_69cc_11e8_8fbb_28cfe917b357row5_col1 {\n",
       "            width:  10em;\n",
       "             height:  80%;\n",
       "            background:  linear-gradient(90deg,#05668D 16.3%, transparent 0%);\n",
       "        }    #T_423d9868_69cc_11e8_8fbb_28cfe917b357row5_col2 {\n",
       "            width:  10em;\n",
       "             height:  80%;\n",
       "            background:  linear-gradient(90deg,#05668D 17.0%, transparent 0%);\n",
       "        }    #T_423d9868_69cc_11e8_8fbb_28cfe917b357row6_col0 {\n",
       "            width:  10em;\n",
       "             height:  80%;\n",
       "            background:  linear-gradient(90deg,#05668D 100.0%, transparent 0%);\n",
       "        }    #T_423d9868_69cc_11e8_8fbb_28cfe917b357row6_col1 {\n",
       "            width:  10em;\n",
       "             height:  80%;\n",
       "            background:  linear-gradient(90deg,#05668D 10.2%, transparent 0%);\n",
       "        }    #T_423d9868_69cc_11e8_8fbb_28cfe917b357row6_col2 {\n",
       "            width:  10em;\n",
       "             height:  80%;\n",
       "            background:  linear-gradient(90deg,#05668D 8.0%, transparent 0%);\n",
       "        }    #T_423d9868_69cc_11e8_8fbb_28cfe917b357row7_col0 {\n",
       "            width:  10em;\n",
       "             height:  80%;\n",
       "            background:  linear-gradient(90deg,#05668D 5.8%, transparent 0%);\n",
       "        }    #T_423d9868_69cc_11e8_8fbb_28cfe917b357row7_col1 {\n",
       "            width:  10em;\n",
       "             height:  80%;\n",
       "        }    #T_423d9868_69cc_11e8_8fbb_28cfe917b357row7_col2 {\n",
       "            width:  10em;\n",
       "             height:  80%;\n",
       "        }</style>  \n",
       "<table id=\"T_423d9868_69cc_11e8_8fbb_28cfe917b357\" > \n",
       "<thead>    <tr> \n",
       "        <th class=\"blank level0\" ></th> \n",
       "        <th class=\"col_heading level0 col0\" colspan=2>Price</th> \n",
       "        <th class=\"col_heading level0 col2\" >Item ID</th> \n",
       "    </tr>    <tr> \n",
       "        <th class=\"blank level1\" ></th> \n",
       "        <th class=\"col_heading level1 col0\" >mean</th> \n",
       "        <th class=\"col_heading level1 col1\" >sum</th> \n",
       "        <th class=\"col_heading level1 col2\" >count</th> \n",
       "    </tr>    <tr> \n",
       "        <th class=\"index_name level0\" >Age_Group</th> \n",
       "        <th class=\"blank\" ></th> \n",
       "        <th class=\"blank\" ></th> \n",
       "        <th class=\"blank\" ></th> \n",
       "    </tr></thead> \n",
       "<tbody>    <tr> \n",
       "        <th id=\"T_423d9868_69cc_11e8_8fbb_28cfe917b357level0_row0\" class=\"row_heading level0 row0\" ><10</th> \n",
       "        <td id=\"T_423d9868_69cc_11e8_8fbb_28cfe917b357row0_col0\" class=\"data row0 col0\" >3.35348</td> \n",
       "        <td id=\"T_423d9868_69cc_11e8_8fbb_28cfe917b357row0_col1\" class=\"data row0 col1\" >77.13</td> \n",
       "        <td id=\"T_423d9868_69cc_11e8_8fbb_28cfe917b357row0_col2\" class=\"data row0 col2\" >23</td> \n",
       "    </tr>    <tr> \n",
       "        <th id=\"T_423d9868_69cc_11e8_8fbb_28cfe917b357level0_row1\" class=\"row_heading level0 row1\" >10-14</th> \n",
       "        <td id=\"T_423d9868_69cc_11e8_8fbb_28cfe917b357row1_col0\" class=\"data row1 col0\" >2.95643</td> \n",
       "        <td id=\"T_423d9868_69cc_11e8_8fbb_28cfe917b357row1_col1\" class=\"data row1 col1\" >82.78</td> \n",
       "        <td id=\"T_423d9868_69cc_11e8_8fbb_28cfe917b357row1_col2\" class=\"data row1 col2\" >28</td> \n",
       "    </tr>    <tr> \n",
       "        <th id=\"T_423d9868_69cc_11e8_8fbb_28cfe917b357level0_row2\" class=\"row_heading level0 row2\" >15-19</th> \n",
       "        <td id=\"T_423d9868_69cc_11e8_8fbb_28cfe917b357row2_col0\" class=\"data row2 col0\" >3.03596</td> \n",
       "        <td id=\"T_423d9868_69cc_11e8_8fbb_28cfe917b357row2_col1\" class=\"data row2 col1\" >412.89</td> \n",
       "        <td id=\"T_423d9868_69cc_11e8_8fbb_28cfe917b357row2_col2\" class=\"data row2 col2\" >136</td> \n",
       "    </tr>    <tr> \n",
       "        <th id=\"T_423d9868_69cc_11e8_8fbb_28cfe917b357level0_row3\" class=\"row_heading level0 row3\" >20-24</th> \n",
       "        <td id=\"T_423d9868_69cc_11e8_8fbb_28cfe917b357row3_col0\" class=\"data row3 col0\" >3.05222</td> \n",
       "        <td id=\"T_423d9868_69cc_11e8_8fbb_28cfe917b357row3_col1\" class=\"data row3 col1\" >1114.06</td> \n",
       "        <td id=\"T_423d9868_69cc_11e8_8fbb_28cfe917b357row3_col2\" class=\"data row3 col2\" >365</td> \n",
       "    </tr>    <tr> \n",
       "        <th id=\"T_423d9868_69cc_11e8_8fbb_28cfe917b357level0_row4\" class=\"row_heading level0 row4\" >25-29</th> \n",
       "        <td id=\"T_423d9868_69cc_11e8_8fbb_28cfe917b357row4_col0\" class=\"data row4 col0\" >2.90099</td> \n",
       "        <td id=\"T_423d9868_69cc_11e8_8fbb_28cfe917b357row4_col1\" class=\"data row4 col1\" >293</td> \n",
       "        <td id=\"T_423d9868_69cc_11e8_8fbb_28cfe917b357row4_col2\" class=\"data row4 col2\" >101</td> \n",
       "    </tr>    <tr> \n",
       "        <th id=\"T_423d9868_69cc_11e8_8fbb_28cfe917b357level0_row5\" class=\"row_heading level0 row5\" >30-34</th> \n",
       "        <td id=\"T_423d9868_69cc_11e8_8fbb_28cfe917b357row5_col0\" class=\"data row5 col0\" >2.93151</td> \n",
       "        <td id=\"T_423d9868_69cc_11e8_8fbb_28cfe917b357row5_col1\" class=\"data row5 col1\" >214</td> \n",
       "        <td id=\"T_423d9868_69cc_11e8_8fbb_28cfe917b357row5_col2\" class=\"data row5 col2\" >73</td> \n",
       "    </tr>    <tr> \n",
       "        <th id=\"T_423d9868_69cc_11e8_8fbb_28cfe917b357level0_row6\" class=\"row_heading level0 row6\" >35-39</th> \n",
       "        <td id=\"T_423d9868_69cc_11e8_8fbb_28cfe917b357row6_col0\" class=\"data row6 col0\" >3.60171</td> \n",
       "        <td id=\"T_423d9868_69cc_11e8_8fbb_28cfe917b357row6_col1\" class=\"data row6 col1\" >147.67</td> \n",
       "        <td id=\"T_423d9868_69cc_11e8_8fbb_28cfe917b357row6_col2\" class=\"data row6 col2\" >41</td> \n",
       "    </tr>    <tr> \n",
       "        <th id=\"T_423d9868_69cc_11e8_8fbb_28cfe917b357level0_row7\" class=\"row_heading level0 row7\" >40+</th> \n",
       "        <td id=\"T_423d9868_69cc_11e8_8fbb_28cfe917b357row7_col0\" class=\"data row7 col0\" >2.94154</td> \n",
       "        <td id=\"T_423d9868_69cc_11e8_8fbb_28cfe917b357row7_col1\" class=\"data row7 col1\" >38.24</td> \n",
       "        <td id=\"T_423d9868_69cc_11e8_8fbb_28cfe917b357row7_col2\" class=\"data row7 col2\" >13</td> \n",
       "    </tr></tbody> \n",
       "</table> "
      ],
      "text/plain": [
       "<pandas.io.formats.style.Styler at 0x10d76bc50>"
      ]
     },
     "execution_count": 28,
     "metadata": {},
     "output_type": "execute_result"
    }
   ],
   "source": [
    "summary_age.style.bar(color='#05668D')"
   ]
  },
  {
   "cell_type": "code",
   "execution_count": 29,
   "metadata": {},
   "outputs": [],
   "source": [
    "summary_spenders = pd.DataFrame(df.groupby(['SN']).agg({'Price':[np.mean,np.sum],'Item ID':'count'}))"
   ]
  },
  {
   "cell_type": "code",
   "execution_count": 30,
   "metadata": {},
   "outputs": [
    {
     "data": {
      "text/html": [
       "<style  type=\"text/css\" >\n",
       "    #T_45365bd8_69cc_11e8_a41a_28cfe917b357row0_col0 {\n",
       "            background-color:  black;\n",
       "            color:  lawngreen;\n",
       "            border-color:  white;\n",
       "        }    #T_45365bd8_69cc_11e8_a41a_28cfe917b357row0_col1 {\n",
       "            background-color:  black;\n",
       "            color:  lawngreen;\n",
       "            border-color:  white;\n",
       "        }    #T_45365bd8_69cc_11e8_a41a_28cfe917b357row0_col2 {\n",
       "            background-color:  black;\n",
       "            color:  lawngreen;\n",
       "            border-color:  white;\n",
       "        }    #T_45365bd8_69cc_11e8_a41a_28cfe917b357row1_col0 {\n",
       "            background-color:  black;\n",
       "            color:  lawngreen;\n",
       "            border-color:  white;\n",
       "        }    #T_45365bd8_69cc_11e8_a41a_28cfe917b357row1_col1 {\n",
       "            background-color:  black;\n",
       "            color:  lawngreen;\n",
       "            border-color:  white;\n",
       "        }    #T_45365bd8_69cc_11e8_a41a_28cfe917b357row1_col2 {\n",
       "            background-color:  black;\n",
       "            color:  lawngreen;\n",
       "            border-color:  white;\n",
       "        }    #T_45365bd8_69cc_11e8_a41a_28cfe917b357row2_col0 {\n",
       "            background-color:  black;\n",
       "            color:  lawngreen;\n",
       "            border-color:  white;\n",
       "        }    #T_45365bd8_69cc_11e8_a41a_28cfe917b357row2_col1 {\n",
       "            background-color:  black;\n",
       "            color:  lawngreen;\n",
       "            border-color:  white;\n",
       "        }    #T_45365bd8_69cc_11e8_a41a_28cfe917b357row2_col2 {\n",
       "            background-color:  black;\n",
       "            color:  lawngreen;\n",
       "            border-color:  white;\n",
       "        }    #T_45365bd8_69cc_11e8_a41a_28cfe917b357row3_col0 {\n",
       "            background-color:  black;\n",
       "            color:  lawngreen;\n",
       "            border-color:  white;\n",
       "        }    #T_45365bd8_69cc_11e8_a41a_28cfe917b357row3_col1 {\n",
       "            background-color:  black;\n",
       "            color:  lawngreen;\n",
       "            border-color:  white;\n",
       "        }    #T_45365bd8_69cc_11e8_a41a_28cfe917b357row3_col2 {\n",
       "            background-color:  black;\n",
       "            color:  lawngreen;\n",
       "            border-color:  white;\n",
       "        }    #T_45365bd8_69cc_11e8_a41a_28cfe917b357row4_col0 {\n",
       "            background-color:  black;\n",
       "            color:  lawngreen;\n",
       "            border-color:  white;\n",
       "        }    #T_45365bd8_69cc_11e8_a41a_28cfe917b357row4_col1 {\n",
       "            background-color:  black;\n",
       "            color:  lawngreen;\n",
       "            border-color:  white;\n",
       "        }    #T_45365bd8_69cc_11e8_a41a_28cfe917b357row4_col2 {\n",
       "            background-color:  black;\n",
       "            color:  lawngreen;\n",
       "            border-color:  white;\n",
       "        }</style>  \n",
       "<table id=\"T_45365bd8_69cc_11e8_a41a_28cfe917b357\" > \n",
       "<thead>    <tr> \n",
       "        <th class=\"blank level0\" ></th> \n",
       "        <th class=\"col_heading level0 col0\" colspan=2>Price</th> \n",
       "        <th class=\"col_heading level0 col2\" >Item ID</th> \n",
       "    </tr>    <tr> \n",
       "        <th class=\"blank level1\" ></th> \n",
       "        <th class=\"col_heading level1 col0\" >mean</th> \n",
       "        <th class=\"col_heading level1 col1\" >sum</th> \n",
       "        <th class=\"col_heading level1 col2\" >count</th> \n",
       "    </tr>    <tr> \n",
       "        <th class=\"index_name level0\" >SN</th> \n",
       "        <th class=\"blank\" ></th> \n",
       "        <th class=\"blank\" ></th> \n",
       "        <th class=\"blank\" ></th> \n",
       "    </tr></thead> \n",
       "<tbody>    <tr> \n",
       "        <th id=\"T_45365bd8_69cc_11e8_a41a_28cfe917b357level0_row0\" class=\"row_heading level0 row0\" >Lisosia93</th> \n",
       "        <td id=\"T_45365bd8_69cc_11e8_a41a_28cfe917b357row0_col0\" class=\"data row0 col0\" >3.792</td> \n",
       "        <td id=\"T_45365bd8_69cc_11e8_a41a_28cfe917b357row0_col1\" class=\"data row0 col1\" >18.96</td> \n",
       "        <td id=\"T_45365bd8_69cc_11e8_a41a_28cfe917b357row0_col2\" class=\"data row0 col2\" >5</td> \n",
       "    </tr>    <tr> \n",
       "        <th id=\"T_45365bd8_69cc_11e8_a41a_28cfe917b357level0_row1\" class=\"row_heading level0 row1\" >Idastidru52</th> \n",
       "        <td id=\"T_45365bd8_69cc_11e8_a41a_28cfe917b357row1_col0\" class=\"data row1 col0\" >3.8625</td> \n",
       "        <td id=\"T_45365bd8_69cc_11e8_a41a_28cfe917b357row1_col1\" class=\"data row1 col1\" >15.45</td> \n",
       "        <td id=\"T_45365bd8_69cc_11e8_a41a_28cfe917b357row1_col2\" class=\"data row1 col2\" >4</td> \n",
       "    </tr>    <tr> \n",
       "        <th id=\"T_45365bd8_69cc_11e8_a41a_28cfe917b357level0_row2\" class=\"row_heading level0 row2\" >Chamjask73</th> \n",
       "        <td id=\"T_45365bd8_69cc_11e8_a41a_28cfe917b357row2_col0\" class=\"data row2 col0\" >4.61</td> \n",
       "        <td id=\"T_45365bd8_69cc_11e8_a41a_28cfe917b357row2_col1\" class=\"data row2 col1\" >13.83</td> \n",
       "        <td id=\"T_45365bd8_69cc_11e8_a41a_28cfe917b357row2_col2\" class=\"data row2 col2\" >3</td> \n",
       "    </tr>    <tr> \n",
       "        <th id=\"T_45365bd8_69cc_11e8_a41a_28cfe917b357level0_row3\" class=\"row_heading level0 row3\" >Iral74</th> \n",
       "        <td id=\"T_45365bd8_69cc_11e8_a41a_28cfe917b357row3_col0\" class=\"data row3 col0\" >3.405</td> \n",
       "        <td id=\"T_45365bd8_69cc_11e8_a41a_28cfe917b357row3_col1\" class=\"data row3 col1\" >13.62</td> \n",
       "        <td id=\"T_45365bd8_69cc_11e8_a41a_28cfe917b357row3_col2\" class=\"data row3 col2\" >4</td> \n",
       "    </tr>    <tr> \n",
       "        <th id=\"T_45365bd8_69cc_11e8_a41a_28cfe917b357level0_row4\" class=\"row_heading level0 row4\" >Iskadarya95</th> \n",
       "        <td id=\"T_45365bd8_69cc_11e8_a41a_28cfe917b357row4_col0\" class=\"data row4 col0\" >4.36667</td> \n",
       "        <td id=\"T_45365bd8_69cc_11e8_a41a_28cfe917b357row4_col1\" class=\"data row4 col1\" >13.1</td> \n",
       "        <td id=\"T_45365bd8_69cc_11e8_a41a_28cfe917b357row4_col2\" class=\"data row4 col2\" >3</td> \n",
       "    </tr></tbody> \n",
       "</table> "
      ],
      "text/plain": [
       "<pandas.io.formats.style.Styler at 0x113195e80>"
      ]
     },
     "execution_count": 30,
     "metadata": {},
     "output_type": "execute_result"
    }
   ],
   "source": [
    "summary_spenders.sort_values(('Price','sum'),ascending=False)[:5].style.set_properties(**{'background-color': 'black',\n",
    "                           'color': 'lawngreen',\n",
    "                           'border-color': 'white'})"
   ]
  },
  {
   "cell_type": "code",
   "execution_count": 31,
   "metadata": {},
   "outputs": [],
   "source": [
    "summary_items = pd.DataFrame(df.groupby(['Item ID','Item Name']).agg({'Price':[np.mean,np.sum],'Item ID':'count'}))"
   ]
  },
  {
   "cell_type": "code",
   "execution_count": 32,
   "metadata": {},
   "outputs": [
    {
     "data": {
      "text/html": [
       "<style  type=\"text/css\" >\n",
       "    #T_46581946_69cc_11e8_82dd_28cfe917b357row0_col0 {\n",
       "            background-color:  black;\n",
       "            color:  lawngreen;\n",
       "            border-color:  white;\n",
       "        }    #T_46581946_69cc_11e8_82dd_28cfe917b357row0_col1 {\n",
       "            background-color:  black;\n",
       "            color:  lawngreen;\n",
       "            border-color:  white;\n",
       "        }    #T_46581946_69cc_11e8_82dd_28cfe917b357row0_col2 {\n",
       "            background-color:  black;\n",
       "            color:  lawngreen;\n",
       "            border-color:  white;\n",
       "        }    #T_46581946_69cc_11e8_82dd_28cfe917b357row1_col0 {\n",
       "            background-color:  black;\n",
       "            color:  lawngreen;\n",
       "            border-color:  white;\n",
       "        }    #T_46581946_69cc_11e8_82dd_28cfe917b357row1_col1 {\n",
       "            background-color:  black;\n",
       "            color:  lawngreen;\n",
       "            border-color:  white;\n",
       "        }    #T_46581946_69cc_11e8_82dd_28cfe917b357row1_col2 {\n",
       "            background-color:  black;\n",
       "            color:  lawngreen;\n",
       "            border-color:  white;\n",
       "        }    #T_46581946_69cc_11e8_82dd_28cfe917b357row2_col0 {\n",
       "            background-color:  black;\n",
       "            color:  lawngreen;\n",
       "            border-color:  white;\n",
       "        }    #T_46581946_69cc_11e8_82dd_28cfe917b357row2_col1 {\n",
       "            background-color:  black;\n",
       "            color:  lawngreen;\n",
       "            border-color:  white;\n",
       "        }    #T_46581946_69cc_11e8_82dd_28cfe917b357row2_col2 {\n",
       "            background-color:  black;\n",
       "            color:  lawngreen;\n",
       "            border-color:  white;\n",
       "        }    #T_46581946_69cc_11e8_82dd_28cfe917b357row3_col0 {\n",
       "            background-color:  black;\n",
       "            color:  lawngreen;\n",
       "            border-color:  white;\n",
       "        }    #T_46581946_69cc_11e8_82dd_28cfe917b357row3_col1 {\n",
       "            background-color:  black;\n",
       "            color:  lawngreen;\n",
       "            border-color:  white;\n",
       "        }    #T_46581946_69cc_11e8_82dd_28cfe917b357row3_col2 {\n",
       "            background-color:  black;\n",
       "            color:  lawngreen;\n",
       "            border-color:  white;\n",
       "        }    #T_46581946_69cc_11e8_82dd_28cfe917b357row4_col0 {\n",
       "            background-color:  black;\n",
       "            color:  lawngreen;\n",
       "            border-color:  white;\n",
       "        }    #T_46581946_69cc_11e8_82dd_28cfe917b357row4_col1 {\n",
       "            background-color:  black;\n",
       "            color:  lawngreen;\n",
       "            border-color:  white;\n",
       "        }    #T_46581946_69cc_11e8_82dd_28cfe917b357row4_col2 {\n",
       "            background-color:  black;\n",
       "            color:  lawngreen;\n",
       "            border-color:  white;\n",
       "        }</style>  \n",
       "<table id=\"T_46581946_69cc_11e8_82dd_28cfe917b357\" > \n",
       "<thead>    <tr> \n",
       "        <th class=\"blank\" ></th> \n",
       "        <th class=\"blank level0\" ></th> \n",
       "        <th class=\"col_heading level0 col0\" colspan=2>Price</th> \n",
       "        <th class=\"col_heading level0 col2\" >Item ID</th> \n",
       "    </tr>    <tr> \n",
       "        <th class=\"blank\" ></th> \n",
       "        <th class=\"blank level1\" ></th> \n",
       "        <th class=\"col_heading level1 col0\" >mean</th> \n",
       "        <th class=\"col_heading level1 col1\" >sum</th> \n",
       "        <th class=\"col_heading level1 col2\" >count</th> \n",
       "    </tr>    <tr> \n",
       "        <th class=\"index_name level0\" >Item ID</th> \n",
       "        <th class=\"index_name level1\" >Item Name</th> \n",
       "        <th class=\"blank\" ></th> \n",
       "        <th class=\"blank\" ></th> \n",
       "        <th class=\"blank\" ></th> \n",
       "    </tr></thead> \n",
       "<tbody>    <tr> \n",
       "        <th id=\"T_46581946_69cc_11e8_82dd_28cfe917b357level0_row0\" class=\"row_heading level0 row0\" >178</th> \n",
       "        <th id=\"T_46581946_69cc_11e8_82dd_28cfe917b357level1_row0\" class=\"row_heading level1 row0\" >Oathbreaker, Last Hope of the Breaking Storm</th> \n",
       "        <td id=\"T_46581946_69cc_11e8_82dd_28cfe917b357row0_col0\" class=\"data row0 col0\" >4.23</td> \n",
       "        <td id=\"T_46581946_69cc_11e8_82dd_28cfe917b357row0_col1\" class=\"data row0 col1\" >50.76</td> \n",
       "        <td id=\"T_46581946_69cc_11e8_82dd_28cfe917b357row0_col2\" class=\"data row0 col2\" >12</td> \n",
       "    </tr>    <tr> \n",
       "        <th id=\"T_46581946_69cc_11e8_82dd_28cfe917b357level0_row1\" class=\"row_heading level0 row1\" >145</th> \n",
       "        <th id=\"T_46581946_69cc_11e8_82dd_28cfe917b357level1_row1\" class=\"row_heading level1 row1\" >Fiery Glass Crusader</th> \n",
       "        <td id=\"T_46581946_69cc_11e8_82dd_28cfe917b357row1_col0\" class=\"data row1 col0\" >4.58</td> \n",
       "        <td id=\"T_46581946_69cc_11e8_82dd_28cfe917b357row1_col1\" class=\"data row1 col1\" >41.22</td> \n",
       "        <td id=\"T_46581946_69cc_11e8_82dd_28cfe917b357row1_col2\" class=\"data row1 col2\" >9</td> \n",
       "    </tr>    <tr> \n",
       "        <th id=\"T_46581946_69cc_11e8_82dd_28cfe917b357level0_row2\" class=\"row_heading level0 row2\" >108</th> \n",
       "        <th id=\"T_46581946_69cc_11e8_82dd_28cfe917b357level1_row2\" class=\"row_heading level1 row2\" >Extraction, Quickblade Of Trembling Hands</th> \n",
       "        <td id=\"T_46581946_69cc_11e8_82dd_28cfe917b357row2_col0\" class=\"data row2 col0\" >3.53</td> \n",
       "        <td id=\"T_46581946_69cc_11e8_82dd_28cfe917b357row2_col1\" class=\"data row2 col1\" >31.77</td> \n",
       "        <td id=\"T_46581946_69cc_11e8_82dd_28cfe917b357row2_col2\" class=\"data row2 col2\" >9</td> \n",
       "    </tr>    <tr> \n",
       "        <th id=\"T_46581946_69cc_11e8_82dd_28cfe917b357level0_row3\" class=\"row_heading level0 row3\" >82</th> \n",
       "        <th id=\"T_46581946_69cc_11e8_82dd_28cfe917b357level1_row3\" class=\"row_heading level1 row3\" >Nirvana</th> \n",
       "        <td id=\"T_46581946_69cc_11e8_82dd_28cfe917b357row3_col0\" class=\"data row3 col0\" >4.9</td> \n",
       "        <td id=\"T_46581946_69cc_11e8_82dd_28cfe917b357row3_col1\" class=\"data row3 col1\" >44.1</td> \n",
       "        <td id=\"T_46581946_69cc_11e8_82dd_28cfe917b357row3_col2\" class=\"data row3 col2\" >9</td> \n",
       "    </tr>    <tr> \n",
       "        <th id=\"T_46581946_69cc_11e8_82dd_28cfe917b357level0_row4\" class=\"row_heading level0 row4\" >19</th> \n",
       "        <th id=\"T_46581946_69cc_11e8_82dd_28cfe917b357level1_row4\" class=\"row_heading level1 row4\" >Pursuit, Cudgel of Necromancy</th> \n",
       "        <td id=\"T_46581946_69cc_11e8_82dd_28cfe917b357row4_col0\" class=\"data row4 col0\" >1.02</td> \n",
       "        <td id=\"T_46581946_69cc_11e8_82dd_28cfe917b357row4_col1\" class=\"data row4 col1\" >8.16</td> \n",
       "        <td id=\"T_46581946_69cc_11e8_82dd_28cfe917b357row4_col2\" class=\"data row4 col2\" >8</td> \n",
       "    </tr></tbody> \n",
       "</table> "
      ],
      "text/plain": [
       "<pandas.io.formats.style.Styler at 0x113195630>"
      ]
     },
     "execution_count": 32,
     "metadata": {},
     "output_type": "execute_result"
    }
   ],
   "source": [
    "summary_items.sort_values(('Item ID','count'),ascending=False)[0:5].style.set_properties(**{'background-color': 'black',\n",
    "                           'color': 'lawngreen',\n",
    "                           'border-color': 'white'})"
   ]
  },
  {
   "cell_type": "code",
   "execution_count": 33,
   "metadata": {},
   "outputs": [],
   "source": [
    "summary_items  = pd.DataFrame(df.groupby(['Item ID','Item Name']).agg({'Price':[np.mean,np.sum],'Item ID':'count'}))"
   ]
  },
  {
   "cell_type": "code",
   "execution_count": 34,
   "metadata": {},
   "outputs": [
    {
     "data": {
      "text/html": [
       "<style  type=\"text/css\" >\n",
       "    #T_47456624_69cc_11e8_a522_28cfe917b357row0_col0 {\n",
       "            background-color:  black;\n",
       "            color:  lawngreen;\n",
       "            border-color:  white;\n",
       "        }    #T_47456624_69cc_11e8_a522_28cfe917b357row0_col1 {\n",
       "            background-color:  black;\n",
       "            color:  lawngreen;\n",
       "            border-color:  white;\n",
       "        }    #T_47456624_69cc_11e8_a522_28cfe917b357row0_col2 {\n",
       "            background-color:  black;\n",
       "            color:  lawngreen;\n",
       "            border-color:  white;\n",
       "        }    #T_47456624_69cc_11e8_a522_28cfe917b357row1_col0 {\n",
       "            background-color:  black;\n",
       "            color:  lawngreen;\n",
       "            border-color:  white;\n",
       "        }    #T_47456624_69cc_11e8_a522_28cfe917b357row1_col1 {\n",
       "            background-color:  black;\n",
       "            color:  lawngreen;\n",
       "            border-color:  white;\n",
       "        }    #T_47456624_69cc_11e8_a522_28cfe917b357row1_col2 {\n",
       "            background-color:  black;\n",
       "            color:  lawngreen;\n",
       "            border-color:  white;\n",
       "        }    #T_47456624_69cc_11e8_a522_28cfe917b357row2_col0 {\n",
       "            background-color:  black;\n",
       "            color:  lawngreen;\n",
       "            border-color:  white;\n",
       "        }    #T_47456624_69cc_11e8_a522_28cfe917b357row2_col1 {\n",
       "            background-color:  black;\n",
       "            color:  lawngreen;\n",
       "            border-color:  white;\n",
       "        }    #T_47456624_69cc_11e8_a522_28cfe917b357row2_col2 {\n",
       "            background-color:  black;\n",
       "            color:  lawngreen;\n",
       "            border-color:  white;\n",
       "        }    #T_47456624_69cc_11e8_a522_28cfe917b357row3_col0 {\n",
       "            background-color:  black;\n",
       "            color:  lawngreen;\n",
       "            border-color:  white;\n",
       "        }    #T_47456624_69cc_11e8_a522_28cfe917b357row3_col1 {\n",
       "            background-color:  black;\n",
       "            color:  lawngreen;\n",
       "            border-color:  white;\n",
       "        }    #T_47456624_69cc_11e8_a522_28cfe917b357row3_col2 {\n",
       "            background-color:  black;\n",
       "            color:  lawngreen;\n",
       "            border-color:  white;\n",
       "        }    #T_47456624_69cc_11e8_a522_28cfe917b357row4_col0 {\n",
       "            background-color:  black;\n",
       "            color:  lawngreen;\n",
       "            border-color:  white;\n",
       "        }    #T_47456624_69cc_11e8_a522_28cfe917b357row4_col1 {\n",
       "            background-color:  black;\n",
       "            color:  lawngreen;\n",
       "            border-color:  white;\n",
       "        }    #T_47456624_69cc_11e8_a522_28cfe917b357row4_col2 {\n",
       "            background-color:  black;\n",
       "            color:  lawngreen;\n",
       "            border-color:  white;\n",
       "        }</style>  \n",
       "<table id=\"T_47456624_69cc_11e8_a522_28cfe917b357\" > \n",
       "<thead>    <tr> \n",
       "        <th class=\"blank\" ></th> \n",
       "        <th class=\"blank level0\" ></th> \n",
       "        <th class=\"col_heading level0 col0\" colspan=2>Price</th> \n",
       "        <th class=\"col_heading level0 col2\" >Item ID</th> \n",
       "    </tr>    <tr> \n",
       "        <th class=\"blank\" ></th> \n",
       "        <th class=\"blank level1\" ></th> \n",
       "        <th class=\"col_heading level1 col0\" >mean</th> \n",
       "        <th class=\"col_heading level1 col1\" >sum</th> \n",
       "        <th class=\"col_heading level1 col2\" >count</th> \n",
       "    </tr>    <tr> \n",
       "        <th class=\"index_name level0\" >Item ID</th> \n",
       "        <th class=\"index_name level1\" >Item Name</th> \n",
       "        <th class=\"blank\" ></th> \n",
       "        <th class=\"blank\" ></th> \n",
       "        <th class=\"blank\" ></th> \n",
       "    </tr></thead> \n",
       "<tbody>    <tr> \n",
       "        <th id=\"T_47456624_69cc_11e8_a522_28cfe917b357level0_row0\" class=\"row_heading level0 row0\" >178</th> \n",
       "        <th id=\"T_47456624_69cc_11e8_a522_28cfe917b357level1_row0\" class=\"row_heading level1 row0\" >Oathbreaker, Last Hope of the Breaking Storm</th> \n",
       "        <td id=\"T_47456624_69cc_11e8_a522_28cfe917b357row0_col0\" class=\"data row0 col0\" >4.23</td> \n",
       "        <td id=\"T_47456624_69cc_11e8_a522_28cfe917b357row0_col1\" class=\"data row0 col1\" >50.76</td> \n",
       "        <td id=\"T_47456624_69cc_11e8_a522_28cfe917b357row0_col2\" class=\"data row0 col2\" >12</td> \n",
       "    </tr>    <tr> \n",
       "        <th id=\"T_47456624_69cc_11e8_a522_28cfe917b357level0_row1\" class=\"row_heading level0 row1\" >82</th> \n",
       "        <th id=\"T_47456624_69cc_11e8_a522_28cfe917b357level1_row1\" class=\"row_heading level1 row1\" >Nirvana</th> \n",
       "        <td id=\"T_47456624_69cc_11e8_a522_28cfe917b357row1_col0\" class=\"data row1 col0\" >4.9</td> \n",
       "        <td id=\"T_47456624_69cc_11e8_a522_28cfe917b357row1_col1\" class=\"data row1 col1\" >44.1</td> \n",
       "        <td id=\"T_47456624_69cc_11e8_a522_28cfe917b357row1_col2\" class=\"data row1 col2\" >9</td> \n",
       "    </tr>    <tr> \n",
       "        <th id=\"T_47456624_69cc_11e8_a522_28cfe917b357level0_row2\" class=\"row_heading level0 row2\" >145</th> \n",
       "        <th id=\"T_47456624_69cc_11e8_a522_28cfe917b357level1_row2\" class=\"row_heading level1 row2\" >Fiery Glass Crusader</th> \n",
       "        <td id=\"T_47456624_69cc_11e8_a522_28cfe917b357row2_col0\" class=\"data row2 col0\" >4.58</td> \n",
       "        <td id=\"T_47456624_69cc_11e8_a522_28cfe917b357row2_col1\" class=\"data row2 col1\" >41.22</td> \n",
       "        <td id=\"T_47456624_69cc_11e8_a522_28cfe917b357row2_col2\" class=\"data row2 col2\" >9</td> \n",
       "    </tr>    <tr> \n",
       "        <th id=\"T_47456624_69cc_11e8_a522_28cfe917b357level0_row3\" class=\"row_heading level0 row3\" >92</th> \n",
       "        <th id=\"T_47456624_69cc_11e8_a522_28cfe917b357level1_row3\" class=\"row_heading level1 row3\" >Final Critic</th> \n",
       "        <td id=\"T_47456624_69cc_11e8_a522_28cfe917b357row3_col0\" class=\"data row3 col0\" >4.88</td> \n",
       "        <td id=\"T_47456624_69cc_11e8_a522_28cfe917b357row3_col1\" class=\"data row3 col1\" >39.04</td> \n",
       "        <td id=\"T_47456624_69cc_11e8_a522_28cfe917b357row3_col2\" class=\"data row3 col2\" >8</td> \n",
       "    </tr>    <tr> \n",
       "        <th id=\"T_47456624_69cc_11e8_a522_28cfe917b357level0_row4\" class=\"row_heading level0 row4\" >103</th> \n",
       "        <th id=\"T_47456624_69cc_11e8_a522_28cfe917b357level1_row4\" class=\"row_heading level1 row4\" >Singed Scalpel</th> \n",
       "        <td id=\"T_47456624_69cc_11e8_a522_28cfe917b357row4_col0\" class=\"data row4 col0\" >4.35</td> \n",
       "        <td id=\"T_47456624_69cc_11e8_a522_28cfe917b357row4_col1\" class=\"data row4 col1\" >34.8</td> \n",
       "        <td id=\"T_47456624_69cc_11e8_a522_28cfe917b357row4_col2\" class=\"data row4 col2\" >8</td> \n",
       "    </tr></tbody> \n",
       "</table> "
      ],
      "text/plain": [
       "<pandas.io.formats.style.Styler at 0x11318c9e8>"
      ]
     },
     "execution_count": 34,
     "metadata": {},
     "output_type": "execute_result"
    }
   ],
   "source": [
    "summary_items.sort_values(('Price','sum'),ascending=False)[0:5].style.set_properties(**{'background-color': 'black',\n",
    "                           'color': 'lawngreen',\n",
    "                           'border-color': 'white'})"
   ]
  },
  {
   "cell_type": "code",
   "execution_count": null,
   "metadata": {},
   "outputs": [],
   "source": []
  },
  {
   "cell_type": "code",
   "execution_count": null,
   "metadata": {},
   "outputs": [],
   "source": []
  }
 ],
 "metadata": {
  "kernelspec": {
   "display_name": "Python 3",
   "language": "python",
   "name": "python3"
  },
  "language_info": {
   "codemirror_mode": {
    "name": "ipython",
    "version": 3
   },
   "file_extension": ".py",
   "mimetype": "text/x-python",
   "name": "python",
   "nbconvert_exporter": "python",
   "pygments_lexer": "ipython3",
   "version": "3.6.4"
  }
 },
 "nbformat": 4,
 "nbformat_minor": 2
}
